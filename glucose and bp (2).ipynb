{
 "cells": [
  {
   "cell_type": "code",
   "execution_count": 45,
   "id": "a5662662",
   "metadata": {},
   "outputs": [],
   "source": [
    "import gradio as gr"
   ]
  },
  {
   "cell_type": "code",
   "execution_count": 46,
   "id": "1f6153ef",
   "metadata": {},
   "outputs": [],
   "source": [
    "def glucosetest(Are_you_diabetic, Glucoselevel):\n",
    "    # assigning value of are_you_diabetic to d\n",
    "    d = \"Are you diabetic\"\n",
    "  \n",
    "    # variable to store the result to be returned\n",
    "    res = ''\n",
    "    \n",
    "    if d == \"No\":\n",
    "        res += 'As a non-diabetic patient, '\n",
    "        if glucoselevel >= 70 and glucoselevel <= 130:\n",
    "            res += 'You have a normal blood glucose level.'\n",
    "        else:\n",
    "            res += 'You have a abnormal blood glucose level.'\n",
    "    else:\n",
    "        res += 'As a diabetic patient, '\n",
    "        if glucoselevel >= 90 and glucoselevel <= 130:\n",
    "            res += 'You have a normal blood glucose level.'\n",
    "        else:\n",
    "            res += 'You have a abnormal blood glucose level.'\n",
    "  \n",
    "    return res"
   ]
  },
  {
   "cell_type": "code",
   "execution_count": 47,
   "id": "a06e00b3",
   "metadata": {},
   "outputs": [],
   "source": [
    "def bp(Systole,Diastole):\n",
    "    \n",
    "  # interpreting the systole and diastole values\n",
    "  if((Systole<120) and (Diastole<80)):\n",
    "    return (\"Normal Blood Pressure\")\n",
    "  \n",
    "  elif ((Systole>=120 and Systole<130) \n",
    "  and (Diastole<80)):\n",
    "    return (\"Elevated Blood Pressure\")\n",
    "  \n",
    "  elif ((Systole>=130 and Systole<140) \n",
    "  or (Diastole>=80 and Diastole<=89)):\n",
    "    return (\"First Stage High Blood Pressure\")\n",
    "  \n",
    "  else:\n",
    "    return (\"Second Stage High Blood Pressure\")"
   ]
  },
  {
   "cell_type": "code",
   "execution_count": 48,
   "id": "ee165ba3",
   "metadata": {},
   "outputs": [
    {
     "name": "stdout",
     "output_type": "stream",
     "text": [
      "Running on local URL:  http://127.0.0.1:7882\n",
      "\n",
      "To create a public link, set `share=True` in `launch()`.\n"
     ]
    },
    {
     "data": {
      "text/html": [
       "<div><iframe src=\"http://127.0.0.1:7882/\" width=\"100%\" height=\"500\" allow=\"autoplay; camera; microphone; clipboard-read; clipboard-write;\" frameborder=\"0\" allowfullscreen></iframe></div>"
      ],
      "text/plain": [
       "<IPython.core.display.HTML object>"
      ]
     },
     "metadata": {},
     "output_type": "display_data"
    },
    {
     "data": {
      "text/plain": []
     },
     "execution_count": 48,
     "metadata": {},
     "output_type": "execute_result"
    },
    {
     "name": "stdout",
     "output_type": "stream",
     "text": [
      "Error while sending telemetry: HTTPSConnectionPool(host='api.gradio.app', port=443): Max retries exceeded with url: /gradio-launched-telemetry/ (Caused by NewConnectionError('<urllib3.connection.HTTPSConnection object at 0x00000200E30A8100>: Failed to establish a new connection: [Errno 11001] getaddrinfo failed'))\n"
     ]
    }
   ],
   "source": [
    "interface = gr.Interface(fn=glucosetest,\n",
    "inputs=[gr.Dropdown([\"No\", \"Yes\"], value='Select'), \n",
    "\"number\"], outputs=\"text\", \n",
    "title=\"ANALYSIS OF GLUCOSE\")\n",
    "  \n",
    "# launching an interface\n",
    "interface.launch()"
   ]
  },
  {
   "cell_type": "code",
   "execution_count": 49,
   "id": "8fcbc538",
   "metadata": {},
   "outputs": [
    {
     "name": "stdout",
     "output_type": "stream",
     "text": [
      "Running on local URL:  http://127.0.0.1:7883\n",
      "\n",
      "To create a public link, set `share=True` in `launch()`.\n"
     ]
    },
    {
     "data": {
      "text/html": [
       "<div><iframe src=\"http://127.0.0.1:7883/\" width=\"100%\" height=\"500\" allow=\"autoplay; camera; microphone; clipboard-read; clipboard-write;\" frameborder=\"0\" allowfullscreen></iframe></div>"
      ],
      "text/plain": [
       "<IPython.core.display.HTML object>"
      ]
     },
     "metadata": {},
     "output_type": "display_data"
    },
    {
     "data": {
      "text/plain": []
     },
     "execution_count": 49,
     "metadata": {},
     "output_type": "execute_result"
    },
    {
     "name": "stdout",
     "output_type": "stream",
     "text": [
      "Error while sending telemetry: HTTPSConnectionPool(host='api.gradio.app', port=443): Max retries exceeded with url: /gradio-launched-telemetry/ (Caused by NewConnectionError('<urllib3.connection.HTTPSConnection object at 0x00000200E32E4CD0>: Failed to establish a new connection: [Errno 11001] getaddrinfo failed'))\n"
     ]
    }
   ],
   "source": [
    "interface=gr.Interface(fn=bp,inputs=[\"number\",\"number\"],\n",
    "outputs=['text'],title=\"ANALYSIS OF BLOOD PRESSURE\")\n",
    "interface.launch()"
   ]
  },
  {
   "cell_type": "code",
   "execution_count": null,
   "id": "3723f103",
   "metadata": {},
   "outputs": [],
   "source": []
  },
  {
   "cell_type": "code",
   "execution_count": null,
   "id": "fb59b2ff",
   "metadata": {},
   "outputs": [],
   "source": []
  }
 ],
 "metadata": {
  "kernelspec": {
   "display_name": "Python 3 (ipykernel)",
   "language": "python",
   "name": "python3"
  },
  "language_info": {
   "codemirror_mode": {
    "name": "ipython",
    "version": 3
   },
   "file_extension": ".py",
   "mimetype": "text/x-python",
   "name": "python",
   "nbconvert_exporter": "python",
   "pygments_lexer": "ipython3",
   "version": "3.9.13"
  }
 },
 "nbformat": 4,
 "nbformat_minor": 5
}
